{
 "cells": [
  {
   "cell_type": "code",
   "execution_count": 6,
   "metadata": {},
   "outputs": [
    {
     "name": "stdout",
     "output_type": "stream",
     "text": [
      "InceptionV3_CSDnoaug Final 5 Epochs Validation loss:  0.79435483871\n"
     ]
    },
    {
     "data": {
      "image/png": "[encoded data removed]",
      "text/plain": [
       "<matplotlib.figure.Figure at 0x12274bbe0>"
      ]
     },
     "metadata": {},
     "output_type": "display_data"
    },
    {
     "data": {
      "text/plain": [
       "<matplotlib.figure.Figure at 0x122abdb70>"
      ]
     },
     "metadata": {},
     "output_type": "display_data"
    }
   ],
   "source": [
    "import pickle\n",
    "from keras.models import load_model\n",
    "import os\n",
    "import sys\n",
    "import numpy as np\n",
    "import pandas as pd\n",
    "import glob\n",
    "import random\n",
    "from PIL import Image\n",
    "import matplotlib.pyplot as plt\n",
    "\n",
    "path='/Users/rb/Google_Drive/Waterloo/projects/breakHis/output/InceptionV3_CSD_paper'\n",
    "# path='/Users/rb/Google_Drive/Waterloo/projects/breakHis/output/InceptionV3_CSD3_tri'\n",
    "\n",
    "\n",
    "everything=glob.glob(os.path.join(path, '*'))\n",
    "\n",
    "all_hist = [loc for loc in everything if '.hdf5' not in loc]\n",
    "\n",
    "for data_loc in all_hist:\n",
    "    data = pickle.load( open( data_loc, \"rb\" ))\n",
    "    name = data_loc.rsplit('/', 1)[-1]\n",
    "    print(name, 'Final 5 Epochs Validation loss: ', np.mean(data['val_acc'][-5:]))\n",
    "    plt.plot(data['loss'])    \n",
    "    plt.plot(data['acc'])\n",
    "    plt.plot(data['val_acc'])\n",
    "    plt.title(name)\n",
    "    plt.ylabel('Accuracy')\n",
    "    plt.xlabel('epoch')\n",
    "    plt.legend(['Train loss', 'Train acc', 'val_acc'], loc='upper left')\n",
    "    plt.figure(figsize=(40,10))\n",
    "    plt.show()"
   ]
  },
  {
   "cell_type": "code",
   "execution_count": 23,
   "metadata": {},
   "outputs": [],
   "source": [
    "from keras import backend as K\n",
    "import os\n",
    "import sys\n",
    "import glob\n",
    "import random\n",
    "from random import randint\n",
    "import numpy as np \n",
    "from PIL import Image\n",
    "from PIL import ImageFilter\n",
    "\n",
    "\n",
    "import keras\n",
    "from keras.models import Sequential, Model, load_model\n",
    "from keras.layers import Dropout, Flatten, Reshape, Input\n",
    "from keras.layers.core import Activation, Dense, Lambda\n",
    "from keras.layers.convolutional import Conv2D\n",
    "from keras.layers.convolutional import MaxPooling2D\n",
    "from keras.layers.pooling import GlobalAveragePooling2D\n",
    "from keras.layers.normalization import BatchNormalization\n",
    "from keras import backend as K\n",
    "from keras.applications.vgg16 import VGG16\n",
    "from keras.applications.inception_v3 import InceptionV3\n",
    "\n",
    "def CSD_loss(y_true, y_pred):\n",
    "    # always assume there will be batch size of 4, with the elements in the following order:\n",
    "    # [current element, element in same sub class, element in same class, element in different class]\n",
    "    m1 = .05 # no idea what this should be set to\n",
    "    m2 = .01\n",
    "\n",
    "    # Normal loss function for CNN:\n",
    "    loss_classification = K.categorical_crossentropy(y_true, y_pred)\n",
    "\n",
    "    # Loss function based on feature distances:\n",
    "    # after the flatten dims is [batches, features]\n",
    "    d_x_pos = K.sqrt(K.sum(K.square(dense1_out[0, :] - dense1_out[1, :])))\n",
    "\n",
    "    d_x_neg = K.sqrt(K.sum(K.square(dense1_out[1, :] - dense1_out[2, :])))\n",
    "    d_x_n = K.sqrt(K.sum(K.square(dense1_out[2, :] - dense1_out[3, :])))\n",
    "\n",
    "    # loss_feat_dist = (.5*K.mean(K.max(0, d_x_pos - d_x_neg + m1 - m2)) + .5*K.mean(K.max(0, d_x_neg - d_x_n + m2)))\n",
    "    # Can't use the above because it ids for the case with multiple samples of each class\n",
    "    loss_feat_dist = .5*K.maximum(0.0, d_x_pos - d_x_neg + m1 - m2) + .5*K.maximum(0.0, d_x_neg - d_x_n + m2)    \n",
    "    loss = 0.5*loss_classification + 0.5*loss_feat_dist\n",
    "    return loss\n",
    "\n",
    "def InceptionV3_CSD(im_size, learning_rate=.001, dropout =.1):\n",
    "    def CSD_loss(y_true, y_pred):\n",
    "        # always assume there will be batch size of 4, with the elements in the following order:\n",
    "        # [current element, element in same sub class, element in same class, element in different class]\n",
    "        m1 = .05 # no idea what this should be set to\n",
    "        m2 = .01\n",
    "\n",
    "        # Normal loss function for CNN:\n",
    "        loss_classification = K.categorical_crossentropy(y_true, y_pred)\n",
    "\n",
    "        # Loss function based on feature distances:\n",
    "        # after the flatten dims is [batches, features]\n",
    "        d_x_pos = K.sqrt(K.sum(K.square(dense1_out[0, :] - dense1_out[1, :])))\n",
    "\n",
    "        d_x_neg = K.sqrt(K.sum(K.square(dense1_out[1, :] - dense1_out[2, :])))\n",
    "        d_x_n = K.sqrt(K.sum(K.square(dense1_out[2, :] - dense1_out[3, :])))\n",
    "\n",
    "        # loss_feat_dist = (.5*K.mean(K.max(0, d_x_pos - d_x_neg + m1 - m2)) + .5*K.mean(K.max(0, d_x_neg - d_x_n + m2)))\n",
    "        # Can't use the above because it ids for the case with multiple samples of each class\n",
    "        loss_feat_dist = .5*K.maximum(0.0, d_x_pos - d_x_neg + m1 - m2) + .5*K.maximum(0.0, d_x_neg - d_x_n + m2)    \n",
    "        loss = 0.5*loss_classification + 0.5*loss_feat_dist\n",
    "        return loss\n",
    "\n",
    "    # try:\n",
    "    base_model = InceptionV3(weights='imagenet', include_top=False)\n",
    "    # except:\n",
    "    #     InceptionV3  = load_model('project/rbbidart/models/InceptionV3')\n",
    "    #     base_model = InceptionV3(inp)\n",
    "    x = base_model.output\n",
    "    x = GlobalAveragePooling2D()(x)\n",
    "\n",
    "    dense1 = Dense(1024, kernel_initializer='he_normal')(x)\n",
    "    dense1 = keras.layers.normalization.BatchNormalization()(dense1)\n",
    "    dense1 = Activation('relu')(dense1)\n",
    "    dense1_out = Dropout(dropout*4)(dense1)\n",
    "\n",
    "    # Output layer\n",
    "    predictions = Dense(8, activation='softmax')(x)\n",
    "\n",
    "    # add everything together to get a model.\n",
    "    model = Model(outputs=predictions, inputs=base_model.input)\n",
    "\n",
    "    # This freezes the convolutional layers, so only the added FC layers will be trained\n",
    "    # Can still adjust the base model because it hasn't been compiled yet\n",
    "    for layer in base_model.layers:\n",
    "        layer.trainable = False\n",
    "\n",
    "    SGD = keras.optimizers.SGD(lr=learning_rate, momentum=0.3, decay=0.0, nesterov=False)\n",
    "    model.compile(optimizer=SGD, loss=CSD_loss, metrics=['accuracy'])\n",
    "    return model"
   ]
  },
  {
   "cell_type": "code",
   "execution_count": 25,
   "metadata": {},
   "outputs": [],
   "source": [
    "model = InceptionV3_CSD(im_size=299, learning_rate=.01, dropout =.1)\n",
    "\n",
    "model.load_weights(model_loc)"
   ]
  },
  {
   "cell_type": "code",
   "execution_count": 51,
   "metadata": {},
   "outputs": [
    {
     "data": {
      "text/plain": [
       "[2.6090862612015773, 0.36062906724511928]"
      ]
     },
     "execution_count": 51,
     "metadata": {},
     "output_type": "execute_result"
    }
   ],
   "source": [
    "# model_loc = '/Users/rb/Google_Drive/Waterloo/projects/breakHis/output/InceptionV3_CSD_paper/InceptionV3_CSDnoaug_100_.38-0.79.hdf5'\n",
    "# model = InceptionV3_CSD(im_size=299, learning_rate=.01, dropout =.1)\n",
    "# model.load_weights(model_loc)\n",
    "\n",
    "model_loc = '/Users/rb/Google_Drive/Waterloo/projects/breakHis/output/InceptionV3_CSD3_tri/InceptionV3_CSD3noaug_100_.56-0.76.hdf5'\n",
    "model = load_model(model_loc)\n",
    "\n",
    "sys.path.insert(0, '/Users/rb/Google_Drive/Waterloo/projects/breakHis/src')\n",
    "from models import*\n",
    "\n",
    "im_size= 256 #299\n",
    "magnification=100\n",
    "batch_size=1\n",
    "\n",
    "test_loc = '/Users/rb/Documents/waterloo/projects/breakHis/patient_det/test'\n",
    "test_imgs = glob.glob(test_loc, recursive=True)\n",
    "\n",
    "num_test = len([loc for loc in glob.glob(test_loc + '/**/*.png', recursive=True) if loc.rsplit('/', 1)[1].rsplit('-', 1)[0].rsplit('-', 1)[1] == str(magnification)])\n",
    "test_steps = np.floor(num_test/batch_size)\n",
    "\n",
    "\n",
    "model.evaluate_generator(data_gen_CSD(test_loc, batch_size=batch_size, magnification=magnification, im_size=im_size),\n",
    "                         steps = test_steps)"
   ]
  },
  {
   "cell_type": "code",
   "execution_count": 53,
   "metadata": {},
   "outputs": [
    {
     "name": "stdout",
     "output_type": "stream",
     "text": [
      "num_test 461\n",
      "461\n"
     ]
    }
   ],
   "source": [
    "test_loc = '/Users/rb/Documents/waterloo/projects/breakHis/patient_det/test'\n",
    "test_imgs = glob.glob(test_loc, recursive=True)\n",
    "test_imgs = [loc for loc in glob.glob(test_loc + '/**/*.png', recursive=True) if loc.rsplit('/', 1)[1].rsplit('-', 1)[0].rsplit('-', 1)[1] == str(magnification)]\n",
    "label_list=['B_A', 'B_F', 'B_PT', 'B_TA', 'M_DC', 'M_LC', 'M_MC', 'M_PC']\n",
    "\n",
    "num_test = len([loc for loc in glob.glob(test_loc + '/**/*.png', recursive=True) if loc.rsplit('/', 1)[1].rsplit('-', 1)[0].rsplit('-', 1)[1] == str(magnification)])\n",
    "print('num_test', num_test)\n",
    "\n",
    "y_pred = []\n",
    "y = []\n",
    "im_size=256#299\n",
    "magnification=100\n",
    "batch_size=1\n",
    "\n",
    "i=0\n",
    "\n",
    "for image_loc in test_imgs:\n",
    "    i=i+1\n",
    "    image = Image.open(image_loc)\n",
    "    image = image.resize((im_size, im_size))\n",
    "    image = np.reshape(np.array(image.getdata()), (im_size, im_size, 3))\n",
    "    image = np.expand_dims(image, axis=0)\n",
    "    image = image/255.0\n",
    "    pred = model.predict(image, batch_size = batch_size)\n",
    "    pred = np.argmax(pred[0])\n",
    "    label = image_loc.rsplit('/', 1)[1].split('_', 1)[1].split('-', 1)[0]\n",
    "    y_temp = label_list.index(label)\n",
    "    \n",
    "    y_pred.append(pred)\n",
    "    y.append(y_temp)\n",
    "\n",
    "print(i)"
   ]
  },
  {
   "cell_type": "code",
   "execution_count": 54,
   "metadata": {},
   "outputs": [
    {
     "name": "stdout",
     "output_type": "stream",
     "text": [
      "0.39262472885\n"
     ]
    },
    {
     "data": {
      "image/png": "[encoded data removed]",
      "text/plain": [
       "<matplotlib.figure.Figure at 0x25c550518>"
      ]
     },
     "metadata": {},
     "output_type": "display_data"
    }
   ],
   "source": [
    "from sklearn.metrics import accuracy_score\n",
    "from sklearn.metrics import confusion_matrix\n",
    "import itertools\n",
    "\n",
    "print(accuracy_score(y, y_pred))\n",
    "\n",
    "cm = confusion_matrix(y, y_pred)\n",
    "classes = ['B_A', 'B_F', 'B_PT', 'B_TA', 'M_DC', 'M_LC', 'M_MC', 'M_PC']\n",
    "\n",
    "plt.imshow(cm, interpolation='nearest', cmap=plt.cm.Blues)\n",
    "# add the numbers\n",
    "thresh = cm.max() / 2\n",
    "for i, j in itertools.product(range(cm.shape[0]), range(cm.shape[1])):\n",
    "    plt.text(j, i, cm[i, j],\n",
    "             horizontalalignment=\"center\",\n",
    "             color=\"white\" if cm[i, j] > thresh else \"black\")\n",
    "plt.colorbar()\n",
    "tick_marks = np.arange(len(classes))\n",
    "plt.xticks(tick_marks, classes, rotation=45)\n",
    "plt.yticks(tick_marks, classes)\n",
    "plt.tight_layout()\n",
    "plt.ylabel('True label')\n",
    "plt.xlabel('Predicted label')\n",
    "plt.show()"
   ]
  },
  {
   "cell_type": "code",
   "execution_count": null,
   "metadata": {
    "collapsed": true
   },
   "outputs": [],
   "source": [
    "import xgboost as xgb\n",
    "\n",
    "n_est_list=[50,100]\n",
    "max_feature_list=[\"sqrt\",\"auto\"]\n",
    "oob_sc=[\"True\",\"False\"]\n",
    "    \n",
    "acc_list_train=[]\n",
    "acc_list_test=[]\n",
    "name_list=[]\n",
    "for n_estimators in n_est_list:\n",
    "    for max_features in max_feature_list:\n",
    "        for oob_score in oob_sc:\n",
    "        clf = svm.SVC()\n",
    "        clf.fit(train_feat, y_train)\n",
    "        y_pred = clf.predict(train_feat)\n",
    "        train_acc = accuracy_score(y_train, y_pred)\n",
    "        # check test acc\n",
    "        y_pred = clf.predict(test_feat)\n",
    "        test_acc=accuracy_score(y_test, y_pred)\n",
    "        name = str(oob_score)+'_'+str(n_estimators)+'_'+str(max_features)\n",
    "        acc_list_train.append(train_acc)\n",
    "        acc_list_test.append(test_acc)\n",
    "        name_list.append(name)\n",
    "\n",
    "        print( '..................................')\n",
    "        print( 'Name: ', name)\n",
    "        print( 'SVM Accuracy train:', train_acc)\n",
    "        print( 'SVM Accuracy test: ', test_acc)"
   ]
  }
 ],
 "metadata": {
  "kernelspec": {
   "display_name": "Python 3",
   "language": "python",
   "name": "python3"
  },
  "language_info": {
   "codemirror_mode": {
    "name": "ipython",
    "version": 3
   },
   "file_extension": ".py",
   "mimetype": "text/x-python",
   "name": "python",
   "nbconvert_exporter": "python",
   "pygments_lexer": "ipython3",
   "version": "3.6.1"
  }
 },
 "nbformat": 4,
 "nbformat_minor": 2
}
